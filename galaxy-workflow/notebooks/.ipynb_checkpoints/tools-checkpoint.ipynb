{
 "cells": [
  {
   "cell_type": "code",
   "execution_count": 1,
   "metadata": {},
   "outputs": [],
   "source": [
    "from bioblend.galaxy import GalaxyInstance"
   ]
  },
  {
   "cell_type": "code",
   "execution_count": 4,
   "metadata": {},
   "outputs": [],
   "source": [
    "API_KEY = 'f261c8ab042de1da7964942e555cff18'\n",
    "gi = GalaxyInstance('http://127.0.0.1:8080', key=API_KEY)\n",
    "# libs = gi.libraries.get_libraries()"
   ]
  },
  {
   "cell_type": "code",
   "execution_count": 6,
   "metadata": {},
   "outputs": [
    {
     "name": "stdout",
     "output_type": "stream",
     "text": [
      "[{'model_class': 'ToolSection', 'id': 'getext', 'name': 'Get Data', 'version': '', 'elems': [{'model_class': 'Tool', 'id': 'upload1', 'name': 'Upload File', 'version': '1.1.7', 'description': 'from your computer', 'labels': [], 'edam_operations': ['operation_0224'], 'edam_topics': [], 'hidden': '', 'is_workflow_compatible': False, 'xrefs': [], 'config_file': '/Users/bens3/Projects/NaturalHistoryMuseum/SDR/Galaxy/galaxy/tools/data_source/upload.xml', 'link': '/tool_runner?tool_id=upload1', 'min_width': -1, 'target': 'galaxy_main', 'panel_section_id': 'getext', 'panel_section_name': 'Get Data', 'form_style': 'regular'}]}, {'model_class': 'ToolSection', 'id': 'sdr', 'name': 'SDR', 'version': '', 'elems': [{'model_class': 'Tool', 'id': 'sdr_barcode', 'name': 'Barcode reader', 'version': '0.0.1', 'description': 'for each open digital specimen', 'labels': [], 'edam_operations': [], 'edam_topics': [], 'hidden': '', 'is_workflow_compatible': True, 'xrefs': [], 'config_file': '/Users/bens3/Projects/NaturalHistoryMuseum/SDR/Galaxy/tools/barcode-example/barcode-example.xml', 'link': '/tool_runner?tool_id=sdr_barcode', 'min_width': -1, 'target': 'galaxy_main', 'panel_section_id': 'sdr', 'panel_section_name': 'SDR', 'form_style': 'regular'}]}]\n"
     ]
    }
   ],
   "source": [
    "libs = gi.tools.get_tool_panel()\n",
    "print(libs)"
   ]
  },
  {
   "cell_type": "code",
   "execution_count": 8,
   "metadata": {},
   "outputs": [],
   "source": [
    "barcode = gi.tools.show_tool('sdr_barcode')\n",
    "\n"
   ]
  },
  {
   "cell_type": "code",
   "execution_count": null,
   "metadata": {},
   "outputs": [],
   "source": []
  }
 ],
 "metadata": {
  "kernelspec": {
   "display_name": "Python [conda env:sdr]",
   "language": "python",
   "name": "conda-env-sdr-py"
  },
  "language_info": {
   "codemirror_mode": {
    "name": "ipython",
    "version": 3
   },
   "file_extension": ".py",
   "mimetype": "text/x-python",
   "name": "python",
   "nbconvert_exporter": "python",
   "pygments_lexer": "ipython3",
   "version": "3.9.5"
  }
 },
 "nbformat": 4,
 "nbformat_minor": 4
}
